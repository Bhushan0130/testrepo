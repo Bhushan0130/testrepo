{
 "cells": [
  {
   "cell_type": "markdown",
   "metadata": {},
   "source": [
    "<center>\n",
    "    <img src=\"https://s3-api.us-geo.objectstorage.softlayer.net/cf-courses-data/CognitiveClass/Logos/organization_logo/organization_logo.png\" width=\"300\" alt=\"cognitiveclass.ai logo\"  />\n",
    "</center>\n"
   ]
  },
  {
   "cell_type": "markdown",
   "metadata": {},
   "source": [
    "# My Jupyter Notebook on IBM Watson Studio\n"
   ]
  },
  {
   "cell_type": "markdown",
   "metadata": {},
   "source": [
    "# ** Bhushan Kumar Sharma, Data Scientist **"
   ]
  },
  {
   "cell_type": "markdown",
   "metadata": {},
   "source": [
    "###### *I am very interested in Data Science because i believe in the power of coding and data by using it we can transform the life of many people or company growth.*"
   ]
  },
  {
   "cell_type": "markdown",
   "metadata": {},
   "source": [
    "This program will perform addition of n number, \n",
    "first you have to give a number, like how many numbers you want to add\n",
    "then you will get a window to enter numbers then in final you will get addition of those all numbers"
   ]
  },
  {
   "cell_type": "code",
   "execution_count": null,
   "metadata": {},
   "outputs": [],
   "source": [
    "n = int(input('How many times you want to add numeric'))"
   ]
  },
  {
   "cell_type": "code",
   "execution_count": 8,
   "metadata": {},
   "outputs": [
    {
     "name": "stdin",
     "output_type": "stream",
     "text": [
      "Enter a number 2\n",
      "Enter a number 2\n",
      "Enter a number 2\n",
      "Enter a number 2\n"
     ]
    },
    {
     "name": "stdout",
     "output_type": "stream",
     "text": [
      "Addition of digits: 8\n"
     ]
    }
   ],
   "source": [
    "adding = 0\n",
    "\n",
    "for i in range(n):\n",
    "    num = int(input('Enter a number'))\n",
    "    adding= adding + num\n",
    "    \n",
    "print(\"Addition of digits :\", adding)"
   ]
  },
  {
   "cell_type": "code",
   "execution_count": null,
   "metadata": {},
   "outputs": [],
   "source": []
  },
  {
   "cell_type": "markdown",
   "metadata": {},
   "source": [
    "### Horizontal line seperation\n",
    "\n",
    "This is Horizontal line seperation\n",
    "***\n",
    "This is Horizontal line seperation"
   ]
  },
  {
   "cell_type": "markdown",
   "metadata": {},
   "source": [
    "<a id=\"data_set\"></a>\n",
    "\n",
    "The car data is a freely available data set on the Data Science Experience home page\n",
    "\n",
    "1. Go to the [Car performance data] (https://apsportal.ibm.com/exchange/public/entry/view/c81e9be8daf6941023b9dc86f303053b) card on the data science experience home page\n",
    "\n",
    "1. Click the link button\n",
    "\n",
    "1. Double click the click to select it, copy the link and click it **Click**\n",
    "\n",
    "1. Replce the **Link_to_Data**"
   ]
  },
  {
   "cell_type": "code",
   "execution_count": null,
   "metadata": {},
   "outputs": [],
   "source": []
  }
 ],
 "metadata": {
  "kernelspec": {
   "display_name": "Python",
   "language": "python",
   "name": "conda-env-python-py"
  },
  "language_info": {
   "codemirror_mode": {
    "name": "ipython",
    "version": 3
   },
   "file_extension": ".py",
   "mimetype": "text/x-python",
   "name": "python",
   "nbconvert_exporter": "python",
   "pygments_lexer": "ipython3",
   "version": "3.7.12"
  }
 },
 "nbformat": 4,
 "nbformat_minor": 4
}
